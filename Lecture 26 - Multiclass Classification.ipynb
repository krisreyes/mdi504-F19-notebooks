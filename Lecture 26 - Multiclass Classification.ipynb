{
 "cells": [
  {
   "cell_type": "code",
   "execution_count": null,
   "metadata": {},
   "outputs": [],
   "source": [
    "import numpy as np\n",
    "import matplotlib.pyplot as plt\n",
    "\n",
    "# ----- make nice figures -----\n",
    "import matplotlib as mpl\n",
    "mpl.rcParams['figure.dpi']= 200\n",
    "\n",
    "from cycler import cycler\n",
    "COLORS = ['#242482', '#F00D2C', '#0071BE', '#242482', '#0071BE', '#4E8F00', '#553C67', '#DA5319', '#F00D2C']\n",
    "default_cycler = cycler(color=COLORS)\n",
    "plt.rc('axes', prop_cycle=default_cycler) \n",
    "# -----------------------------"
   ]
  },
  {
   "cell_type": "code",
   "execution_count": null,
   "metadata": {},
   "outputs": [],
   "source": [
    "data = np.loadtxt('data/lec26.txt')\n",
    "\n",
    "x = data[:, :2]\n",
    "y = data[:, 2]\n",
    "num_points = len(y)\n",
    "\n",
    "# assign colors to each class\n",
    "y_color = []\n",
    "for i in range(num_points):\n",
    "    y_color.append(COLORS[int(y[i]) + 1])"
   ]
  },
  {
   "cell_type": "code",
   "execution_count": null,
   "metadata": {},
   "outputs": [],
   "source": [
    "plt.scatter(x[:, 0], x[:, 1], c = y_color)"
   ]
  },
  {
   "cell_type": "markdown",
   "metadata": {},
   "source": [
    "# Visualizing OVR and OVO\n",
    "\n",
    "## One versus Rest"
   ]
  },
  {
   "cell_type": "code",
   "execution_count": null,
   "metadata": {},
   "outputs": [],
   "source": [
    "I_red = y == 0\n",
    "y_red = np.zeros(len(y))\n",
    "y_red[I_red] = 0\n",
    "y_red[~I_red] = -1\n",
    "\n",
    "y_red_color = [COLORS[1] if in_class else '#999999' for in_class in I_red ]\n",
    "plt.scatter(x[:, 0], x[:, 1], c = y_red_color)"
   ]
  },
  {
   "cell_type": "code",
   "execution_count": null,
   "metadata": {},
   "outputs": [],
   "source": [
    "I_blue = y == 1\n",
    "y_blue = np.zeros(len(y))\n",
    "y_blue[I_blue] = 1\n",
    "y_blue[~I_blue] = -1\n",
    "\n",
    "y_blue_color = [COLORS[2] if in_class else '#999999' for in_class in I_blue]\n",
    "plt.scatter(x[:, 0], x[:, 1], c = y_blue_color)"
   ]
  },
  {
   "cell_type": "code",
   "execution_count": null,
   "metadata": {},
   "outputs": [],
   "source": [
    "I_purp = y == -1\n",
    "y_purp = np.zeros(len(y))\n",
    "y_purp[I_purp] = 1\n",
    "y_purp[~I_purp] = -1\n",
    "\n",
    "y_purp_color = [COLORS[0] if in_class else '#999999' for in_class in I_purp]\n",
    "plt.scatter(x[:, 0], x[:, 1], c = y_purp_color)"
   ]
  },
  {
   "cell_type": "markdown",
   "metadata": {},
   "source": [
    "# One versus One"
   ]
  },
  {
   "cell_type": "code",
   "execution_count": null,
   "metadata": {},
   "outputs": [],
   "source": [
    "I_purp = y == -1\n",
    "I_red = y == 0\n",
    "I_blue = y == 1\n",
    "\n",
    "# Purp (-1) vs Red (0)\n",
    "I_p_or_r = I_purp | I_red\n",
    "x_pvr = x[I_p_or_r, :]\n",
    "y_pvr = y[I_p_or_r]\n",
    "y_pvr_color = ['#242482' if c == -1 else '#F00D2C' for c in y_pvr]\n",
    "plt.scatter(x_pvr[:, 0], x_pvr[:, 1], c = y_pvr_color)"
   ]
  },
  {
   "cell_type": "code",
   "execution_count": null,
   "metadata": {},
   "outputs": [],
   "source": [
    "# Purp (-1) vs Blue (1)\n",
    "I_p_or_b = I_purp | I_blue\n",
    "x_pvb = x[I_p_or_b, :]\n",
    "y_pvb = y[I_p_or_b]\n",
    "y_pvb_color = ['#242482' if c == -1 else '#0071BE' for c in y_pvb]\n",
    "plt.scatter(x_pvb[:, 0], x_pvb[:, 1], c = y_pvb_color)"
   ]
  },
  {
   "cell_type": "code",
   "execution_count": null,
   "metadata": {},
   "outputs": [],
   "source": [
    "# Red (0) vs Blue (1)\n",
    "I_r_or_b = I_red | I_blue\n",
    "x_rvb = x[I_r_or_b, :]\n",
    "y_rvb = y[I_r_or_b]\n",
    "y_rvb_color = ['#F00D2C' if c == 0 else '#0071BE' for c in y_rvb]\n",
    "plt.scatter(x_rvb[:, 0], x_rvb[:, 1], c = y_rvb_color)"
   ]
  },
  {
   "cell_type": "markdown",
   "metadata": {},
   "source": [
    "# OVO and OVR in `sklearn`"
   ]
  },
  {
   "cell_type": "code",
   "execution_count": null,
   "metadata": {},
   "outputs": [],
   "source": [
    "num_train = int(num_points*0.8*0.8)\n",
    "num_valid = int(num_points*0.8*0.2)\n",
    "\n",
    "# Extract\n",
    "x_train = x[:num_train]\n",
    "y_train = y[:num_train]\n",
    "    \n",
    "x_valid = x[num_train:num_train+num_valid]\n",
    "y_valid = y[num_train:num_train+num_valid]\n",
    "\n",
    "x_test = x[num_train+num_valid:]\n",
    "y_test = y[num_train+num_valid:]\n",
    "\n",
    "# Normalize data\n",
    "# IMPORTANT: Normalization parameters must be derived from training data\n",
    "mu_x = np.mean(x_train, axis = 0)\n",
    "sig_x = np.std(x_train, axis = 0)\n",
    "\n",
    "x_train = (x_train - mu_x)/sig_x\n",
    "x_valid = (x_valid - mu_x)/sig_x\n",
    "x_test = (x_test - mu_x)/sig_x\n",
    "x = (x - mu_x)/sig_x"
   ]
  },
  {
   "cell_type": "code",
   "execution_count": null,
   "metadata": {},
   "outputs": [],
   "source": [
    "# SVC Model do one vs one classification by itself.\n",
    "from sklearn.svm import SVC\n",
    "\n",
    "model = SVC(kernel = 'rbf', gamma = 'scale')\n",
    "model.fit(x_train, y_train)\n",
    "y_valid_model = model.predict(x_valid)"
   ]
  },
  {
   "cell_type": "markdown",
   "metadata": {},
   "source": [
    "Alternatively, we can use the `OnevsOneClassifier` meta-model that trains several binary classifiers, no matter what the model is."
   ]
  },
  {
   "cell_type": "code",
   "execution_count": null,
   "metadata": {},
   "outputs": [],
   "source": [
    "from sklearn.svm import SVC\n",
    "from sklearn.multiclass import OneVsOneClassifier\n",
    "\n",
    "binary_model = SVC(kernel = 'rbf', gamma = 'scale')\n",
    "model = OneVsOneClassifier(binary_model)\n",
    "model.fit(x_train, y_train)\n",
    "y_valid_model2 = model.predict(x_valid)"
   ]
  },
  {
   "cell_type": "markdown",
   "metadata": {},
   "source": [
    "We can compare the results of the two alternatives."
   ]
  },
  {
   "cell_type": "code",
   "execution_count": null,
   "metadata": {},
   "outputs": [],
   "source": [
    "y_valid_model == y_valid_model2"
   ]
  },
  {
   "cell_type": "markdown",
   "metadata": {},
   "source": [
    "We don't have to use SVM for our binary classification model. We could use Logistic regression, or any other classifier we've seen so far."
   ]
  },
  {
   "cell_type": "code",
   "execution_count": null,
   "metadata": {},
   "outputs": [],
   "source": [
    "from sklearn.linear_model import LogisticRegression\n",
    "binary_model = LogisticRegression(solver = 'lbfgs')\n",
    "model = OneVsOneClassifier(binary_model)\n",
    "model.fit(x_train, y_train)"
   ]
  },
  {
   "cell_type": "markdown",
   "metadata": {},
   "source": [
    "We can also do OVR classification using the `OneVsRestClassifier` meta model."
   ]
  },
  {
   "cell_type": "code",
   "execution_count": null,
   "metadata": {},
   "outputs": [],
   "source": [
    "from sklearn.multiclass import OneVsRestClassifier\n",
    "\n",
    "binary_model = SVC(kernel = 'rbf', gamma = 'scale')\n",
    "model = OneVsRestClassifier(binary_model)\n",
    "model.fit(x_train, y_train)\n",
    "y_valid_model = model.predict(x_valid)\n"
   ]
  },
  {
   "cell_type": "markdown",
   "metadata": {},
   "source": [
    "## How do we measure performance of multi-class problem?"
   ]
  },
  {
   "cell_type": "code",
   "execution_count": null,
   "metadata": {},
   "outputs": [],
   "source": [
    "from sklearn.metrics import precision_score, recall_score, accuracy_score, f1_score\n",
    "accuracy = accuracy_score(y_valid_model, y_valid)\n",
    "print(\"Accuracy = \" + str(accuracy))"
   ]
  },
  {
   "cell_type": "code",
   "execution_count": null,
   "metadata": {},
   "outputs": [],
   "source": [
    "precision = precision_score(y_valid_model, y_valid, average = 'micro')\n",
    "recall = recall_score(y_valid_model, y_valid, average = 'micro')\n",
    "\n",
    "print(\"Precision (micro avg) = \" + str(precision))\n",
    "print(\"   Recall (micro avg) = \" + str(recall))"
   ]
  }
 ],
 "metadata": {
  "kernelspec": {
   "display_name": "Python 3",
   "language": "python",
   "name": "python3"
  },
  "language_info": {
   "codemirror_mode": {
    "name": "ipython",
    "version": 3
   },
   "file_extension": ".py",
   "mimetype": "text/x-python",
   "name": "python",
   "nbconvert_exporter": "python",
   "pygments_lexer": "ipython3",
   "version": "3.7.2"
  }
 },
 "nbformat": 4,
 "nbformat_minor": 2
}
