{
 "cells": [
  {
   "cell_type": "code",
   "execution_count": null,
   "metadata": {},
   "outputs": [],
   "source": [
    "import numpy as np\n",
    "import matplotlib.pyplot as plt\n",
    "# use one of the following: qt, wx, gtk, osx, tk, inline\n",
    "%matplotlib inline \n",
    "\n",
    "# ----- make nice figures -----\n",
    "import matplotlib as mpl\n",
    "mpl.rcParams['figure.dpi']= 200\n",
    "\n",
    "from cycler import cycler\n",
    "COLORS = ['#553C67', '#F00D2C', '#4E8F00']\n",
    "default_cycler = cycler(color=COLORS)\n",
    "plt.rc('axes', prop_cycle=default_cycler) \n",
    "plt.rc('text', usetex=True)\n",
    "plt.rc('text.latex', preamble=r'\\usepackage{bm}')\n",
    "# -----------------------------"
   ]
  },
  {
   "cell_type": "markdown",
   "metadata": {},
   "source": [
    "## Load and plot the data in x space."
   ]
  },
  {
   "cell_type": "code",
   "execution_count": null,
   "metadata": {},
   "outputs": [],
   "source": [
    "data = np.loadtxt('lec16.txt')\n",
    "x = data[:,0:2]\n",
    "c = data[:,2]\n",
    "num_points = len(c)\n",
    "\n",
    "# boolean indices to positively and negatively classified data\n",
    "I_pos = (c == 1)\n",
    "I_neg = (c == -1)\n",
    "\n",
    "# plot points classified as positive\n",
    "plt.scatter(x[I_pos,0], x[I_pos,1])\n",
    "\n",
    "# plot points classified as negative\n",
    "plt.scatter(x[I_neg,0], x[I_neg,1])\n",
    "\n",
    "plt.xlabel('$x_1$')\n",
    "plt.ylabel('$x_2$')\n",
    "plt.title('Data in X space')"
   ]
  },
  {
   "cell_type": "markdown",
   "metadata": {},
   "source": [
    "## Transform using basis functions, plot in phi-space"
   ]
  },
  {
   "cell_type": "code",
   "execution_count": null,
   "metadata": {},
   "outputs": [],
   "source": [
    "# We'll use phi_1 = x_1^2 and phi_2 = x_2^2\n",
    "phi_1 = x[:,0]**2\n",
    "phi_2 = x[:,1]**2\n",
    "\n",
    "# plot points classified as positive\n",
    "plt.scatter(phi_1[I_pos], phi_2[I_pos])\n",
    "\n",
    "# plot points classified as negative\n",
    "plt.scatter(phi_1[I_neg], phi_2[I_neg])\n",
    "\n",
    "plt.xlabel(r'$\\varphi_1 = x_1^2$')\n",
    "plt.ylabel(r'$\\varphi_2 = x_2^2$')\n",
    "plt.title(r'Data in $\\varphi$ space')"
   ]
  },
  {
   "cell_type": "markdown",
   "metadata": {},
   "source": [
    "## Train SVM model and plot seperating hyperplane in phi-space"
   ]
  },
  {
   "cell_type": "code",
   "execution_count": null,
   "metadata": {},
   "outputs": [],
   "source": [
    "# Import the SVM classifier class\n",
    "from sklearn.svm import SVC\n",
    "\n",
    "# Form design matrix\n",
    "Phi = np.zeros([num_points, 2])\n",
    "Phi[:,0] = x[:,0]**2\n",
    "Phi[:,1] = x[:,1]**2\n",
    "\n",
    "# Fit thetas by maximizing separability and distance from data\n",
    "svm_model = SVC(kernel='linear')\n",
    "svm_model.fit(Phi, c)\n",
    "theta_svm = svm_model.coef_[0]\n",
    "\n",
    "# the constant term is trained separately in sklearn\n",
    "theta_0 = svm_model.intercept_ \n",
    "\n",
    "# plot points classified as positive\n",
    "plt.scatter(phi_1[I_pos], phi_2[I_pos])\n",
    "\n",
    "# plot points classified as negative\n",
    "plt.scatter(phi_1[I_neg], phi_2[I_neg])\n",
    "\n",
    "# plot the separating hyperplane in phi space\n",
    "phi_1_plot = np.linspace(0, 0.7, 10)\n",
    "phi_2_plot = -(theta_0 + theta_svm[0]*phi_1_plot)/theta_svm[1]\n",
    "plt.plot(phi_1_plot, phi_2_plot, color='#4E8F00')\n",
    "\n",
    "plt.xlabel(r'$\\varphi_1 = x_1^2$')\n",
    "plt.ylabel(r'$\\varphi_2 = x_2^2$')\n",
    "plt.title(r'Data in $\\varphi$ space')\n"
   ]
  },
  {
   "cell_type": "code",
   "execution_count": null,
   "metadata": {},
   "outputs": [],
   "source": [
    "print(theta_0)\n",
    "print(theta_svm)"
   ]
  },
  {
   "cell_type": "markdown",
   "metadata": {},
   "source": [
    "# Plot separating level set in x-space"
   ]
  },
  {
   "cell_type": "code",
   "execution_count": null,
   "metadata": {},
   "outputs": [],
   "source": [
    "x1_plot = np.linspace(-1, 1, 500)\n",
    "# taking square roots yields two solutions\n",
    "x2_plot_1 = np.sqrt(-(theta_0 + theta_svm[0]*x1_plot**2)/theta_svm[1])\n",
    "x2_plot_2 = -np.sqrt(-(theta_0 + theta_svm[0]*x1_plot**2)/theta_svm[1])\n",
    "\n",
    "# plot points classified as positive\n",
    "plt.scatter(x[I_pos,0], x[I_pos,1])\n",
    "\n",
    "# plot points classified as negative\n",
    "plt.scatter(x[I_neg,0], x[I_neg,1])\n",
    "\n",
    "# Plot level set g(x) = 0\n",
    "plt.plot(x1_plot, x2_plot_1, color='#4E8F00')\n",
    "plt.plot(x1_plot, x2_plot_2, color='#4E8F00')\n",
    "\n",
    "plt.xlabel('$x_1$')\n",
    "plt.ylabel('$x_2$')\n",
    "plt.title('Data in X space')\n"
   ]
  },
  {
   "cell_type": "markdown",
   "metadata": {},
   "source": [
    "## The linear model and it's zero level set used for classification"
   ]
  },
  {
   "cell_type": "code",
   "execution_count": null,
   "metadata": {},
   "outputs": [],
   "source": [
    "# get ready to do a 3d plot\n",
    "%matplotlib qt \n",
    "from mpl_toolkits.mplot3d import Axes3D\n",
    "fig = plt.figure()\n",
    "ax = fig.add_subplot(111, projection='3d')\n",
    "\n",
    "# plot the actual linear function, and not just its level set\n",
    "x1_plot = np.linspace(-1, 1, 10)\n",
    "x2_plot = np.linspace(-1, 1, 10)\n",
    "\n",
    "# a whole bunch of stuff needed to make 3d plots\n",
    "X1_plot, X2_plot = np.meshgrid(x1_plot, x2_plot)\n",
    "y_plot = np.array([theta_0 + theta_svm[0]*x1**2  + theta_svm[1]*x2**2\\\n",
    "              for x1,x2 in zip(np.ravel(X1_plot), np.ravel(X2_plot))])\n",
    "Y_plot = y_plot.reshape(X1_plot.shape)\n",
    "\n",
    "\n",
    "# plot\n",
    "ax.plot_surface(X1_plot, X2_plot, Y_plot)\n",
    "ax.contour(X1_plot, X2_plot, Y_plot, 6, linestyles=\"solid\", offset=-5)\n",
    "ax.set_zlim([4, -5])\n",
    "\n",
    "# plot points classified as positive\n",
    "ax.scatter(x[I_pos,0], x[I_pos,1], -5*np.ones(np.sum(I_pos)))\n",
    "\n",
    "# plot points classified as negative\n",
    "ax.scatter(x[I_neg,0], x[I_neg,1], -5*np.ones(np.sum(I_neg)))"
   ]
  },
  {
   "cell_type": "markdown",
   "metadata": {},
   "source": [
    "# SVM and class imbalance"
   ]
  },
  {
   "cell_type": "code",
   "execution_count": null,
   "metadata": {},
   "outputs": [],
   "source": [
    "# plot in notebook again\n",
    "%matplotlib inline\n",
    "mpl.rcParams['figure.dpi']= 200\n",
    "\n",
    "# what about data from last time?\n",
    "data = np.loadtxt('lec15.txt')\n",
    "num_points = data.shape[0]\n",
    "x = data[:, 0:2]\n",
    "c = data[:, 2]\n",
    "\n",
    "# Use the same training data as last time\n",
    "num_train = int(num_points*0.8*0.8)\n",
    "x_train = x[0:num_train]\n",
    "c_train = c[0:num_train]\n",
    "\n",
    "# Here we'll use Phi = x (so that phi_1 = x_1, phi_2 = x_2)\n",
    "mu_x = np.mean(x_train)\n",
    "sig_x = np.std(x_train)\n",
    "\n",
    "# fit the model\n",
    "svm_model = SVC(kernel='linear')\n",
    "svm_model.fit((x_train-mu_x)/sig_x, c_train)\n",
    "\n",
    "# Make plot\n",
    "COLORS = ['#F00D2C', '#553C67']\n",
    "c_color = []\n",
    "for i in range(num_points):\n",
    "    c_color.append(COLORS[int(c[i])])\n",
    "\n",
    "# Color plot\n",
    "x1_plot = np.linspace(0, 1, 500)\n",
    "x2_plot = np.linspace(0, 1.3, 500)\n",
    "xx1, xx2 = np.meshgrid(x1_plot, x2_plot)\n",
    "\n",
    "x_plot = np.array([xx1.ravel(), xx2.ravel()]).transpose()\n",
    "# predict at every point in plane (i.e. x_plot)\n",
    "c_plot = svm_model.predict((x_plot-mu_x)/sig_x)\n",
    "c_plot = c_plot.reshape(xx1.shape)\n",
    "\n",
    "from matplotlib.colors import ListedColormap\n",
    "plt.pcolormesh(xx1, xx2, c_plot, cmap=ListedColormap(COLORS))\n",
    "plt.scatter(x[:,0], x[:,1], marker='^', edgecolors='k', linewidth=0.5, c=c_color)\n",
    "plt.xlabel('X1')\n",
    "plt.ylabel('X2')"
   ]
  },
  {
   "cell_type": "code",
   "execution_count": null,
   "metadata": {},
   "outputs": [],
   "source": []
  }
 ],
 "metadata": {
  "kernelspec": {
   "display_name": "Python 3",
   "language": "python",
   "name": "python3"
  },
  "language_info": {
   "codemirror_mode": {
    "name": "ipython",
    "version": 3
   },
   "file_extension": ".py",
   "mimetype": "text/x-python",
   "name": "python",
   "nbconvert_exporter": "python",
   "pygments_lexer": "ipython3",
   "version": "3.7.2"
  }
 },
 "nbformat": 4,
 "nbformat_minor": 2
}
