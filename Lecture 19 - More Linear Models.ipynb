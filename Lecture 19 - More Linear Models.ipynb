{
 "cells": [
  {
   "cell_type": "code",
   "execution_count": null,
   "metadata": {},
   "outputs": [],
   "source": [
    "import numpy as np\n",
    "import matplotlib.pyplot as plt\n",
    "\n",
    "# ----- make nice figures -----\n",
    "import matplotlib as mpl\n",
    "mpl.rcParams['figure.dpi']= 200\n",
    "from cycler import cycler\n",
    "COLORS = ['#F00D2C', '#242482', '#0071BE', '#4E8F00', '#553C67', '#DA5319']\n",
    "default_cycler = cycler(color=COLORS)\n",
    "plt.rc('axes', prop_cycle=default_cycler) \n",
    "# -----------------------------"
   ]
  },
  {
   "cell_type": "markdown",
   "metadata": {},
   "source": [
    "# Predicting Creep Rupture Stresses.\n",
    "\n",
    "In a paper entitled \"Theoretical design of ferritic creep resitatnt steels using neural network, kinetic and thermodynamic models,\" F. Brun, T. Yoshida et al. predicted creep rupture stresses for steel materials based on a set of 28 material properties. For details, see:\n",
    "\n",
    "https://www.phase-trans.msm.cam.ac.uk/map/data/materials/creeprupt-b.html\n",
    "\n",
    "We'll try to do the same thing with their data using Kernel Ridge Regression. The data is located in `data/creep_rupture_tests.txt`"
   ]
  },
  {
   "cell_type": "code",
   "execution_count": null,
   "metadata": {},
   "outputs": [],
   "source": [
    "data = np.loadtxt('data/creep_rupture_tests.txt')\n",
    "print(data.shape)\n",
    "\n",
    "# Check if we have missing data\n",
    "np.any(np.isnan(data))"
   ]
  },
  {
   "cell_type": "markdown",
   "metadata": {},
   "source": [
    "We will use the first 80% as training data, and then 80% of the remaining as validation data. The rest goes into testing data."
   ]
  },
  {
   "cell_type": "code",
   "execution_count": null,
   "metadata": {},
   "outputs": [],
   "source": [
    "# shuffle rows\n",
    "I_perm = np.random.permutation(len(X))\n",
    "data = data[I_perm, :]\n",
    "\n",
    "# Input variables\n",
    "y = data[:, 1]\n",
    "X = data[:, 2:30]\n",
    "\n",
    "# training, validation and testing\n",
    "num_train = int(0.8*len(X))\n",
    "num_valid = int(0.2*0.8*len(X))\n",
    "\n",
    "X_train = X[:num_train, :]\n",
    "y_train = y[:num_train]\n",
    "\n",
    "X_valid = X[num_train:(num_train + num_valid), :]\n",
    "y_valid = y[num_train:(num_train + num_valid)]\n",
    "\n",
    "X_test = X[(num_train + num_valid):, :]\n",
    "y_test = y[(num_train + num_valid):]"
   ]
  },
  {
   "cell_type": "markdown",
   "metadata": {},
   "source": [
    "We need to normalize our data since variable have different units. It's important to normalize each of the three training sets with **the same** normalization constants, which we estimate from the training data set. These constants are considered parameters to the model."
   ]
  },
  {
   "cell_type": "code",
   "execution_count": null,
   "metadata": {},
   "outputs": [],
   "source": [
    "# Normalize data - the normalization constants are parameters\n",
    "# of the model and must be estimated from the TRAINING data\n",
    "mu_X = np.mean(X_train, axis = 0)\n",
    "sig_X = np.std(X_train, axis = 0)\n",
    "X_train_norm = (X_train - mu_X)/sig_X\n",
    "X_valid_norm = (X_valid - mu_X)/sig_X\n",
    "X_test_norm = (X_test - mu_X)/sig_X"
   ]
  },
  {
   "cell_type": "markdown",
   "metadata": {},
   "source": [
    "We'll use Kernel Ridge Regression to map from the 28 inputs to the one output. It's in `scikit-learn` and is used like all other `scikit-learn` models. As parameters, we have to specify the regularization constant (here called `alpha` and the kernel type. Let's use the Guassian kernel (here called `rbf` for now). In reality, there is another parameter (`gamma`) which we could pass in if we're using the RBF kernel, but for now, we'll just use the default value.\n",
    "\n",
    "Documentation:\n",
    "https://scikit-learn.org/stable/modules/generated/sklearn.kernel_ridge.KernelRidge.html#sklearn.kernel_ridge.KernelRidge\n",
    "\n"
   ]
  },
  {
   "cell_type": "code",
   "execution_count": null,
   "metadata": {},
   "outputs": [],
   "source": [
    "# Kernel ridge regression -- No more design matrices!\n",
    "from sklearn.kernel_ridge import KernelRidge\n",
    "\n",
    "model = KernelRidge(alpha = 0.001, kernel = 'rbf')\n",
    "model.fit(X_train_norm, y_train)"
   ]
  },
  {
   "cell_type": "markdown",
   "metadata": {},
   "source": [
    "Once trained, we'll try to predict the validation data to see how good our choices of the hyperparameters are."
   ]
  },
  {
   "cell_type": "code",
   "execution_count": null,
   "metadata": {},
   "outputs": [],
   "source": [
    "y_valid_model = model.predict(X_valid_norm)\n",
    "\n",
    "# visualize results with a y-y plot\n",
    "plt.scatter(y_valid, y_valid_model)\n",
    "plt.grid()\n",
    "plt.xlabel('Data')\n",
    "plt.ylabel('Predicted')\n",
    "plt.title('Creep rupture stress prediction using KRR')"
   ]
  },
  {
   "cell_type": "markdown",
   "metadata": {},
   "source": [
    "`scikit-learn` regression metrics:\n",
    "\n",
    "https://scikit-learn.org/stable/modules/model_evaluation.html#regression-metrics"
   ]
  },
  {
   "cell_type": "code",
   "execution_count": null,
   "metadata": {},
   "outputs": [],
   "source": [
    "from sklearn.metrics import mean_squared_error, r2_score\n",
    "\n",
    "mse = mean_squared_error(y_valid, y_valid_model)\n",
    "r2 = r2_score(y_valid, y_valid_model)\n",
    "\n",
    "print(\"MSE = \" + str(mse))\n",
    "print(\"R2 = \" + str(r2))"
   ]
  },
  {
   "cell_type": "markdown",
   "metadata": {},
   "source": [
    "In reality, we should try a large number of models, varying `alpha` and other parameters, and pick the best setting of these parameters according to how well they predict the validation set. Here, we'll vary `alpha`."
   ]
  },
  {
   "cell_type": "code",
   "execution_count": null,
   "metadata": {},
   "outputs": [],
   "source": [
    "# lets try to pick a good alpha\n",
    "alphas = np.logspace(-3, 1)\n",
    "mses = np.zeros(len(alphas))\n",
    "\n",
    "for i, alpha in enumerate(alphas):\n",
    "    # Create an KRR model with specified alpha\n",
    "    model = KernelRidge(alpha = alpha, kernel = 'rbf')\n",
    "    model.fit(X_train_norm, y_train)\n",
    "    y_valid_model = model.predict(X_valid_norm)\n",
    "    \n",
    "    # Save the mse for comparison later\n",
    "    mses[i] = mean_squared_error(y_valid, y_valid_model)\n",
    "    \n",
    "plt.plot(alphas, mses)\n",
    "plt.xscale('log')\n",
    "plt.xlabel('alpha')\n",
    "plt.ylabel('mse')\n",
    "plt.grid()"
   ]
  },
  {
   "cell_type": "code",
   "execution_count": null,
   "metadata": {},
   "outputs": [],
   "source": [
    "# pick the best alpha\n",
    "i_best = np.argmin(mses)\n",
    "best_alpha = alphas[i_best]\n",
    "best_mse = mses[i_best]\n",
    "print(\"best_alpha = %f, best_mse = %f\" %(best_alpha, best_mse))"
   ]
  },
  {
   "cell_type": "markdown",
   "metadata": {},
   "source": [
    "Here's the best model."
   ]
  },
  {
   "cell_type": "code",
   "execution_count": null,
   "metadata": {},
   "outputs": [],
   "source": [
    "model = KernelRidge(alpha = best_alpha, kernel = 'rbf')\n",
    "model.fit(X_train_norm, y_train)\n",
    "y_valid_model = model.predict(X_valid_norm)\n",
    "\n",
    "# visualize results with a y-y plot\n",
    "plt.scatter(y_valid, y_valid_model)\n",
    "plt.grid()\n",
    "plt.xlabel('Data')\n",
    "plt.ylabel('Predicted')\n",
    "plt.title('Creep rupture stress prediction using KRR')\n",
    "\n",
    "mse = mean_squared_error(y_valid, y_valid_model)\n",
    "r2 = r2_score(y_valid, y_valid_model)\n",
    "print(\"MSE = \" + str(mse))\n",
    "print(\"R2 = \" + str(r2))"
   ]
  },
  {
   "cell_type": "markdown",
   "metadata": {},
   "source": [
    "What about other kernels? Built in kernels can be found here:\n",
    "    \n",
    "    https://scikit-learn.org/stable/modules/generated/sklearn.metrics.pairwise.pairwise_kernels.html"
   ]
  },
  {
   "cell_type": "code",
   "execution_count": null,
   "metadata": {},
   "outputs": [],
   "source": [
    "# What about other kernels?\n",
    "\n",
    "for i, alpha in enumerate(alphas):\n",
    "    # Create an KRR model with specified alpha\n",
    "    model = KernelRidge(alpha = alpha, kernel = 'poly', degree = 5)\n",
    "    model.fit(X_train_norm, y_train)\n",
    "    y_valid_model = model.predict(X_valid_norm)\n",
    "    \n",
    "    # Save the mse for comparison later\n",
    "    mses[i] = mean_squared_error(y_valid, y_valid_model)\n",
    "    \n",
    "plt.plot(alphas, mses)\n",
    "plt.xscale('log')\n",
    "plt.xlabel('alpha')\n",
    "plt.ylabel('mse')\n",
    "plt.grid()\n",
    "\n",
    "# pick the best alpha\n",
    "i_best = np.argmin(mses)\n",
    "best_alpha = alphas[i_best]\n",
    "best_mse = mses[i_best]\n",
    "print(\"best_alpha = %f, best_mse = %f\" %(best_alpha, best_mse))"
   ]
  },
  {
   "cell_type": "markdown",
   "metadata": {},
   "source": [
    "Pick the best model, and apply to testing data"
   ]
  },
  {
   "cell_type": "code",
   "execution_count": null,
   "metadata": {},
   "outputs": [],
   "source": [
    "model = KernelRidge(alpha = 3.906940, kernel = 'poly', degree = 5)\n",
    "model.fit(X_train_norm, y_train)\n",
    "y_test_model = model.predict(X_test_norm)\n",
    "\n",
    "mse_test = mean_squared_error(y_test, y_test_model)\n",
    "print(\"Estimated MSE for model: \" + str(mse_test))"
   ]
  },
  {
   "cell_type": "code",
   "execution_count": null,
   "metadata": {},
   "outputs": [],
   "source": [
    "# Some basic residual analysis\n",
    "r = y_test - y_test_model\n",
    "plt.hist(r, rwidth= 0.9)\n",
    "plt.xlabel('Residual')\n",
    "plt.ylabel('Frequency')\n",
    "\n",
    "print('Mean residual = %f' % np.mean(r))\n",
    "print('Median residual = %f' % np.median(r))\n",
    "print('Std residual = %f' % np.std(r))"
   ]
  }
 ],
 "metadata": {
  "kernelspec": {
   "display_name": "Python 3",
   "language": "python",
   "name": "python3"
  },
  "language_info": {
   "codemirror_mode": {
    "name": "ipython",
    "version": 3
   },
   "file_extension": ".py",
   "mimetype": "text/x-python",
   "name": "python",
   "nbconvert_exporter": "python",
   "pygments_lexer": "ipython3",
   "version": "3.7.2"
  }
 },
 "nbformat": 4,
 "nbformat_minor": 2
}
