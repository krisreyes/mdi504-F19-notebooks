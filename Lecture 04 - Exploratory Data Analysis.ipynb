{
 "cells": [
  {
   "cell_type": "markdown",
   "metadata": {},
   "source": [
    "## Loading a text file in Python\n",
    "\n",
    "\n",
    "We'll open the file directly just to look at its contents:"
   ]
  },
  {
   "cell_type": "code",
   "execution_count": null,
   "metadata": {},
   "outputs": [],
   "source": [
    "data_file_name = \"data/JAHANMI2.txt\"\n",
    "\n",
    "with open(data_file_name, 'r') as fin:\n",
    "    print(fin.read())"
   ]
  },
  {
   "cell_type": "markdown",
   "metadata": {},
   "source": [
    "We observe that \n",
    "1. this is a space delimited file \n",
    "2. Each row corresponds to a data point\n",
    "3. Each column corresponds to a variable\n",
    "4. There is a header row that contains column labels\n",
    "5. There doesn't appear to be any *missing data*."
   ]
  },
  {
   "cell_type": "markdown",
   "metadata": {},
   "source": [
    "We'll use `numpy` to load it, specifically using the function `np.loadtxt`. To see how to use it, we can consult the documentation:\n",
    "\n",
    "https://docs.scipy.org/doc/numpy/reference/generated/numpy.loadtxt.html\n"
   ]
  },
  {
   "cell_type": "code",
   "execution_count": null,
   "metadata": {},
   "outputs": [],
   "source": [
    "import numpy as np\n",
    "\n",
    "# use the np. loadtxt function to load the data into a two-dimensional numpy array\n",
    "data = np.loadtxt(???)\n",
    "\n",
    "# See also: np.genfromtxt (when we know there is missing data)"
   ]
  },
  {
   "cell_type": "markdown",
   "metadata": {},
   "source": [
    "Let's print the first 5 rows / data points of this data"
   ]
  },
  {
   "cell_type": "code",
   "execution_count": null,
   "metadata": {},
   "outputs": [],
   "source": [
    "# print first 5 rows\n",
    "print(data[0:5, :])"
   ]
  },
  {
   "cell_type": "markdown",
   "metadata": {},
   "source": [
    "Let's print the first 5 rows again, but only include \"Id\" (Column index 0), \"Y\" (Column index 4) and \"X2\" (Column index 6)."
   ]
  },
  {
   "cell_type": "code",
   "execution_count": null,
   "metadata": {},
   "outputs": [],
   "source": [
    "# print first 5 rows and columns 0, 4, and 6\n",
    "print(data[0:5, [0,4,6]])"
   ]
  },
  {
   "cell_type": "markdown",
   "metadata": {},
   "source": [
    "## Examining the data size\n",
    "\n",
    "We can ask the following basic questions:\n",
    "* **How much data do we have?**\n",
    "* **What is the shape of the data?**\n",
    "\n",
    "(Why do we care?)"
   ]
  },
  {
   "cell_type": "code",
   "execution_count": null,
   "metadata": {
    "scrolled": false
   },
   "outputs": [],
   "source": [
    "# print data shape\n",
    "print(data.shape)"
   ]
  },
  {
   "cell_type": "markdown",
   "metadata": {},
   "source": [
    "This tells us that we have 480 rows (data points) and 16 columns (variables).\n",
    "\n",
    "\n",
    "Now, let's make sure that we don't have badly formatted data (which is often an indication of missing data). If\n",
    "there was missing or badly formatted data somewhere in the data file, the function ``np.loadtxt`` would insert a NaN (not a number) in its place.\n",
    "\n",
    "We can check for the presence of NaN entries using `np.isnan` and `np.any`"
   ]
  },
  {
   "cell_type": "code",
   "execution_count": null,
   "metadata": {
    "scrolled": false
   },
   "outputs": [],
   "source": [
    "# check if any nan\n",
    "print(np.isnan(data))"
   ]
  },
  {
   "cell_type": "code",
   "execution_count": null,
   "metadata": {},
   "outputs": [],
   "source": [
    "# this is hard to parse, lets ask python to check all the entries using np.any\n",
    "# np.any returns a True if any value returned from np.isnan(data) is set to True\n",
    "# It returns False if all the values are False.\n",
    "print(\"Results from np.any:\")\n",
    "print(np.any(np.isnan(data)))"
   ]
  },
  {
   "cell_type": "markdown",
   "metadata": {
    "slideshow": {
     "slide_type": "slide"
    }
   },
   "source": [
    "## Summary statistics of Y\n",
    "\n",
    "Y (the reported strength of the ceramic materials) is the response variable for this data set. Let's try to get some basic summary statistics such as\n",
    "\n",
    "1. The average (or *mean* or *expected*) value.\n",
    "2. The middle (or *median*) value.\n",
    "3. The maximum and minimum values.\n",
    "4. The range of the values.\n",
    "5. The standard deviation (how much on average are reported Y values are from the mean)?\n",
    "\n",
    "The ``numpy`` library has functions to calculate these values.\n"
   ]
  },
  {
   "cell_type": "code",
   "execution_count": null,
   "metadata": {},
   "outputs": [],
   "source": [
    "# get the 4th column from the data\n",
    "\n",
    "# Mean"
   ]
  },
  {
   "cell_type": "code",
   "execution_count": null,
   "metadata": {},
   "outputs": [],
   "source": [
    "# Median"
   ]
  },
  {
   "cell_type": "code",
   "execution_count": null,
   "metadata": {},
   "outputs": [],
   "source": [
    "# Variance"
   ]
  },
  {
   "cell_type": "code",
   "execution_count": null,
   "metadata": {},
   "outputs": [],
   "source": [
    "# Maximum and Minimum"
   ]
  },
  {
   "cell_type": "code",
   "execution_count": null,
   "metadata": {},
   "outputs": [],
   "source": [
    "# Range"
   ]
  },
  {
   "cell_type": "markdown",
   "metadata": {},
   "source": [
    "## Plotting Y\n",
    "\n",
    "To make plots, we need to import the ``matplotlib.pylot`` library"
   ]
  },
  {
   "cell_type": "code",
   "execution_count": null,
   "metadata": {},
   "outputs": [],
   "source": [
    "import matplotlib.pyplot as plt"
   ]
  },
  {
   "cell_type": "markdown",
   "metadata": {},
   "source": [
    "Often in class, I'll include the following chunk of code to make better looking plots. It's ok to ignore this for now:"
   ]
  },
  {
   "cell_type": "code",
   "execution_count": null,
   "metadata": {},
   "outputs": [],
   "source": [
    "# ----- make nice figures -----\n",
    "import matplotlib as mpl\n",
    "mpl.rcParams['figure.dpi']= 300\n",
    "from cycler import cycler\n",
    "COLORS = ['#F00D2C', '#242482', '#0071BE', '#4E8F00', '#553C67', '#DA5319']\n",
    "default_cycler = cycler(color=COLORS)\n",
    "plt.rc('axes', prop_cycle=default_cycler) \n",
    "# -----------------------------"
   ]
  },
  {
   "cell_type": "markdown",
   "metadata": {},
   "source": [
    "### Run Plot\n",
    "\n",
    "One of the easiest plots we can make is a **run plot**, where we just plot $Y$ versus the experiment index.\n",
    "We can use the `plt.plot` function.\n",
    "\n",
    "Documentation: https://matplotlib.org/3.1.1/api/_as_gen/matplotlib.pyplot.plot.html"
   ]
  },
  {
   "cell_type": "code",
   "execution_count": null,
   "metadata": {},
   "outputs": [],
   "source": [
    "# Run Plot\n",
    "\n",
    "# Add some grid lines\n",
    "\n",
    "# Add some labels\n"
   ]
  },
  {
   "cell_type": "markdown",
   "metadata": {},
   "source": [
    "### Histogram\n",
    "\n",
    "Another easy plot is a histogram, which bins similar values of $Y$ observations, and plots a bar chart to show the frequency of similar $Y$ values in the data. To make a histogram, we can use the `plt.hist` function.\n",
    "\n",
    "Documentation: https://matplotlib.org/3.1.1/api/_as_gen/matplotlib.pyplot.hist.html"
   ]
  },
  {
   "cell_type": "code",
   "execution_count": null,
   "metadata": {},
   "outputs": [],
   "source": [
    "# Histogram plot\n",
    "\n",
    "# Labels\n"
   ]
  },
  {
   "cell_type": "markdown",
   "metadata": {},
   "source": [
    "### Box Plot\n",
    "\n",
    "Another way of visualizing summary statistics is a box plot, which we can make using the `plt.boxplot` function.\n",
    "\n",
    "Documentation: https://matplotlib.org/3.1.1/api/_as_gen/matplotlib.pyplot.boxplot.html"
   ]
  },
  {
   "cell_type": "code",
   "execution_count": null,
   "metadata": {},
   "outputs": [],
   "source": [
    "# Box plot\n",
    "\n",
    "# Labels"
   ]
  },
  {
   "cell_type": "markdown",
   "metadata": {},
   "source": [
    "Here, the vertical axis correspond to $Y$ values. The purple line indicates the median value among the data. The rectangle shows the interval between 25% and 75% percentiles. That is, 50% of the data closest to the median is within this interval. The thin lines shows the maximum and minimum values of the $Y$ data, after removing outliers. The two dots are two outlier data points - points that are uncharacteristically small given the rest of the data.\n",
    "\n",
    "Note that there are no large outliers - points that are uncharacteristically large."
   ]
  },
  {
   "cell_type": "markdown",
   "metadata": {},
   "source": [
    "### QQ Plots\n",
    "\n",
    "Looking at the histogram of $Y$, we may think that the data looks like a bell curve. That is, we may think that the data has a **Normal (aka Gaussian)** distribution. We can visualize how well this appears using a **Quantile-Quantile (QQ) plot**.\n",
    "\n",
    "To do this, we'll use another library called ``scipy``, and particular the function ``scipy.stats.probplot``, which is located in the sub-library ``scipy.stats``\n",
    "\n",
    "Documentation: https://docs.scipy.org/doc/scipy/reference/generated/scipy.stats.probplot.html"
   ]
  },
  {
   "cell_type": "code",
   "execution_count": null,
   "metadata": {},
   "outputs": [],
   "source": [
    "# Import the stats library. we won't give it an alias\n",
    "from scipy import stats\n",
    "\n",
    "# Use stats.probplot to make a QQ plot comared to the Normal/Gaussian Distribution\n",
    "results = stats.probplot(Y, dist='norm', plot = plt)"
   ]
  },
  {
   "cell_type": "markdown",
   "metadata": {},
   "source": [
    "If the observed distribution of the $Y$ data was really a Normal distribution, the blue dots and the red line would line up well. In fact, they do line up fairly well in the middle, but only deviate for large and small values of the observed data. This tells us that the tails (extreme values of $Y$) do not follow a normal distribution."
   ]
  },
  {
   "cell_type": "code",
   "execution_count": null,
   "metadata": {},
   "outputs": [],
   "source": [
    "# Generate 50 observations of a N(0,1) random variable\n",
    "\n",
    "# Make QQ Plot"
   ]
  },
  {
   "cell_type": "code",
   "execution_count": null,
   "metadata": {},
   "outputs": [],
   "source": [
    "# Generate 50 observations of a Uniform random variable\n",
    "\n",
    "# Make QQ Plot"
   ]
  },
  {
   "cell_type": "markdown",
   "metadata": {},
   "source": [
    "## Effect of Batch on Response\n",
    "\n",
    "Now we want to understand the effect of the other variables on the response variable. For example, we can ask how changing the Batch (column 13) affects ceramic strength. This is very typical in experimental materials, in which the response may change based on different batches that you must order from a supplier.\n",
    "\n",
    "### Scatter Plot\n",
    "One of the first things we can do is to plot $B$ vs $Y$ as a scatter plot. We can use the `plt.scatter` function.\n",
    "\n",
    "Documentation: https://matplotlib.org/3.1.1/api/_as_gen/matplotlib.pyplot.scatter.html"
   ]
  },
  {
   "cell_type": "code",
   "execution_count": null,
   "metadata": {},
   "outputs": [],
   "source": [
    "# define B \n",
    "B = data[:,13]\n",
    "\n",
    "# Scatter plot B, Y using plt.scatter"
   ]
  },
  {
   "cell_type": "markdown",
   "metadata": {},
   "source": [
    "This plot really doesn't tell us much, except that we observe that there are only 2 values of the Batch variable, 1 and 2. The points overlap too much for us to say anything else more meaningful."
   ]
  },
  {
   "cell_type": "markdown",
   "metadata": {},
   "source": [
    "### Conditioning on Batch Number\n",
    "\n",
    "Let's look at the response $Y$ for the first two batches. We'll write $Y | B = 1$ to indicate the $Y$ data values corresponding to the first batch and $Y | B = 2$ for the $Y$ values corresponding to the second batch."
   ]
  },
  {
   "cell_type": "code",
   "execution_count": null,
   "metadata": {},
   "outputs": [],
   "source": [
    "# Boolean indexing - This will be a 480-long array of True/False Values, True when Batch is 1, False otherwise.\n",
    "I_B1 = ???\n",
    "\n",
    "# Use the boolean index to extract the Y values corresponding to the cases when Batch is 1\n",
    "Y_given_B1 = ???\n",
    "\n",
    "# Do the same with Batch 2\n",
    "I_B2 = ???\n",
    "Y_given_B2 = ???\n",
    "\n",
    "# Plot histograms of both\n",
    "\n",
    "# Add a legend\n",
    "\n",
    "# Add some labels\n"
   ]
  },
  {
   "cell_type": "markdown",
   "metadata": {},
   "source": [
    "We see that the two distributions for $Y|B=1$ and $Y|B=2$ are visually distinct, at least in where their mean or median values are. That is, the two distirbutions \"peak\" at different places. What about the spread, or standard deviation of the distributions? Are they similar?"
   ]
  },
  {
   "cell_type": "markdown",
   "metadata": {},
   "source": [
    "### Summary statistics of conditional response\n",
    "\n",
    "We see that the distributions are somewhat different. Let's compare their mean and standard deviations."
   ]
  },
  {
   "cell_type": "code",
   "execution_count": null,
   "metadata": {},
   "outputs": [],
   "source": [
    "# Y|B=1 mean and std\n",
    "\n",
    "# Y|B=2 mean and std\n"
   ]
  },
  {
   "cell_type": "markdown",
   "metadata": {},
   "source": [
    "**Questions**: \n",
    "* Are these two distributions significantly different? \n",
    "* That is, is there a strong batch effect on the response?\n",
    "* How can you be sure of your answer?"
   ]
  },
  {
   "cell_type": "markdown",
   "metadata": {},
   "source": [
    "**Question** We made histogram plots for the conditional responses $Y | B=1$ and $Y | B=2$. \n",
    "* Can you make the other types of plot for these conditional responses? \n",
    "* What do they tell you?"
   ]
  },
  {
   "cell_type": "markdown",
   "metadata": {},
   "source": [
    "## Effect of Lab\n",
    "\n",
    "This experiment was done across 8 different labs (Column 1). How different are the results from the different labs?\n",
    "\n",
    "We'll again use conditioning to pick out the response function values specific to particular labs. Again, we will write\n",
    "\n",
    "$$ Y | L = i $$\n",
    "\n",
    "to describe the response function values obtained from lab $i$."
   ]
  },
  {
   "cell_type": "code",
   "execution_count": null,
   "metadata": {},
   "outputs": [],
   "source": [
    "# Define L\n",
    "L = data[:,1]\n",
    "\n",
    "# Define conditionals\n",
    "Y_given_L1 = ???\n",
    "\n",
    "# The same for all other labs (L = 2, 3, ..., 8)\n",
    "\n",
    "# Make histograms\n",
    "\n"
   ]
  },
  {
   "cell_type": "markdown",
   "metadata": {},
   "source": [
    "This was too much copy-and-pasting! Let's try to be a bit more programmatic by writing a ``for``-loop:"
   ]
  },
  {
   "cell_type": "code",
   "execution_count": null,
   "metadata": {},
   "outputs": [],
   "source": [
    "# iterate over labs, i = 1, 2, ..., 8 (but not 9)\n",
    "for i in range(1, 9):\n",
    "    # Form boolean index to condition on L = i\n",
    "    \n",
    "    # condition Y | L = i \n",
    "    \n",
    "    # plot histogram of the conditioned random variable\n",
    " \n",
    "    "
   ]
  },
  {
   "cell_type": "markdown",
   "metadata": {},
   "source": [
    "We get the same plot, but with less copy and pasting (imagine if we had 100 labs)!\n",
    "\n",
    "But still, this is too much to look at! Let's try to instead summarize each histogram by  computing the mean of each of the conditional $Y$ values, and plotting the mean values for each lab, instead of the entire histogram."
   ]
  },
  {
   "cell_type": "code",
   "execution_count": null,
   "metadata": {},
   "outputs": [],
   "source": [
    "# allocate mean_values array to store the computed means of each conditionals\n",
    "# one entry per lab (so 8 total)\n",
    "mean_values_arr = np.zeros(8)\n",
    "\n",
    "# loop over lab numbers\n",
    "for i in range(1, 9):\n",
    "    # Form boolean index to condition on L = i\n",
    "    \n",
    "    # condition Y | L = i \n",
    "    \n",
    "    # calculate conditional mean and store it in the array\n",
    "       \n",
    "# plot the mean values with plt.plot (We could have also used \"scatter\" here)\n",
    "plt.plot(mean_values_arr, linewidth=0, marker='o')\n",
    "plt.xlabel('Lab number')\n",
    "plt.ylabel('Mean Y conditioned on lab')"
   ]
  },
  {
   "cell_type": "markdown",
   "metadata": {},
   "source": [
    "How does this variance between labs compare to the variance between batches?\n",
    "\n",
    "**Question** We used the mean value summary statistic to simplify the plots for different labs. \n",
    "* What are other ways we can visualize the response value conditional on lab number?\n",
    "\n",
    "For example, below is how to make several box plots, each corresponding to the distribution of $Y$ given a particular lab number"
   ]
  },
  {
   "cell_type": "code",
   "execution_count": null,
   "metadata": {},
   "outputs": [],
   "source": [
    "# boxplot can take a Python list of data arrays. If given a list instead of \n",
    "# a single data array, boxplot will make several box plots, one for each\n",
    "# array in the list\n",
    "\n",
    "# declare the list that will hold data arrays\n",
    "Y_vals_list = []\n",
    "\n",
    "# loop over lab numbers\n",
    "for i in range(1, 9):\n",
    "    # Form boolean index to condition on L = i\n",
    "    \n",
    "    # condition Y | L = i \n",
    "    \n",
    "    # add conditional values to list using the built-in `append`  function for Python lists\n",
    "    Y_vals_list.append(Y_given_Li)\n",
    "    \n",
    "# plot box plot\n",
    "plt.boxplot(Y_vals_list)\n",
    "plt.xlabel(\"Lab number\")\n",
    "plt.ylabel(\"Y conditioned on lab\")"
   ]
  },
  {
   "cell_type": "markdown",
   "metadata": {},
   "source": [
    "## Multiple Conditioning\n",
    "\n",
    "Did each lab handle the different batches the same? Maybe some labs were able to eliminate the batch effect. Let's try to compare the simultaneous effect of the batch and lab.\n",
    "\n",
    "Now we want to look at response values obtain for a specific batch and a specific lab. For a batch i and lab j, we'll write\n",
    "\n",
    "$$ Y |(B = i \\text{ AND } L = j) $$\n",
    "\n",
    "for the response values corresponding to both batch i and lab j. In Python, to combine two logical indices with an ``AND`` statement, we'll use the numpy function ``np.logical_and``."
   ]
  },
  {
   "cell_type": "code",
   "execution_count": null,
   "metadata": {},
   "outputs": [],
   "source": [
    "# define 2 dimensional array to store the mean values for response given batch and lab\n",
    "# the 2D array will have 2 rows (one for each batch) and 8 columns (one for each lab)\n",
    "mean_values_2d_arr = np.zeros([2,8])\n",
    "\n",
    "# loop over batch number\n",
    "for i in range(1, 3):\n",
    "    # loop over lab number\n",
    "    for j in range(1, 9):\n",
    "        \n",
    "        I_Bi = (B == (i))\n",
    "        I_Lj = (L == (j))\n",
    "     \n",
    "        # find indices where batch is i AND lab is j\n",
    "        I_Bi_Lj = np.logical_and(I_Bi, I_Lj)\n",
    "        \n",
    "        # Condintion Y on B=i and L=j\n",
    "        Y_given_Bi_Lj = Y[I_Bi_Lj]        \n",
    "      \n",
    "        # calculate the conditional mean values\n",
    "        # CAUTION: Use 0-based indexing to index into numpy arrays\n",
    "        mean_values_2d_arr[i-1, j-1] = np.mean(Y_given_Bi_Lj)\n",
    "        \n",
    "               \n",
    "# Now the first row of mean values corresponds to batch 1\n",
    "# and the second row correspons to batch 2. Columns \n",
    "# correspond to different labs. Let's plot the values\n",
    "\n",
    "# Plot the mean values of Y for different labs, given first batch\n",
    "plt.plot(mean_values_2d_arr[0,:], linewidth=0, marker='o')\n",
    "\n",
    "# Plot the mean values of Y for different labs, given second batch\n",
    "plt.plot(mean_values_2d_arr[1,:], linewidth=0, marker='o')\n",
    "\n",
    "# Add a legend for each of the 2 plots above\n",
    "plt.legend(['Batch 1', 'Batch 2'])\n",
    "\n",
    "plt.xlabel('Lab Number')\n",
    "plt.ylabel('Y conditioned on Lab and Batch')"
   ]
  },
  {
   "cell_type": "markdown",
   "metadata": {},
   "source": [
    "**Question** \n",
    "* What does this tell us about the batch effect? \n",
    "* Did any lab account for the batch effect?\n",
    "* What is consistent between labs?"
   ]
  },
  {
   "cell_type": "markdown",
   "metadata": {},
   "source": [
    "# Summary\n",
    "\n",
    "In this lecture, we learned some ways to look at the data. We learned how to load the data into a numpy array called `data`. We also learned how to extract different rows and columns from the data. For example, to just get the column corresponding to the strength of the ceramic materials (column 4), we used the command `Y = data[:, 4]`.\n",
    "\n",
    "We also learned how to use numpy to calculate summary statistics for an array of numerical data. Specifically, we saw how to calculate\n",
    "* Mean values using `np.mean`\n",
    "* Median values using `np.median`\n",
    "* Standard deviation using `np.std`\n",
    "* Maximum and minimum values using `np.max` and `np.min`\n",
    "\n",
    "We also learned how to visualize the data with some plots using the `matplotlib.pyplot` and `scipy.stats` packages. Specifically, we saw how to make the following plots:\n",
    "\n",
    "* Run plots (`plt.plot(Y)`)- which plots data values vs. row index.\n",
    "* Histograms (`plt.hist(Y)`) - which shows the frequency of values among the data.\n",
    "* Boxplots (`plt.boxplot(Y)` or `plt.boxplot(Y_list)`) - which shows one or several box plots, which are one dimensional representations of the data showing median values, the interval between 25% and 75% percentiles, outliers, and range of the data.\n",
    "* QQ plots (`scipy.stats.probplot`) - which allows us to compare observed data to specific distributions, such as the Normal distribution.\n",
    "* Scatter plots (`plt.scatter`) - which plots two variables against each other as $(x,y)$ pairs of points.\n",
    "\n",
    "We lastly showed how to condition your data, that is pick subsets of your data ccording to some condition. For example, we wanted to get the $Y$ values that correspond to when the batch was equal to 1, which we wrote as $Y | B = 1$ and used the phrase \"Y given B equal to 1\". To do this in python, we used Boolean indexing which was done in two steps.\n",
    "\n",
    "* Define an array of True/False values in which the \"True\" values correspond to the data we want to extract. For example, we made such an *index array* `I_B1 = (B == 1)` to be True when the batch equaled 1, and False otherwise.\n",
    "* Use the index array to extract the proper subset from the response array $Y$ using `Y_given_B1 = Y[I_B1]`.\n",
    "\n",
    "We used this to perform a similar analysis on subsets of the $Y$ data corresponding to specific batches or specific labs. We then compared the results of this analysis between batches and labs to see if these had a significant effect on the statistics of $Y$.\n"
   ]
  }
 ],
 "metadata": {
  "kernelspec": {
   "display_name": "Python 3",
   "language": "python",
   "name": "python3"
  },
  "language_info": {
   "codemirror_mode": {
    "name": "ipython",
    "version": 3
   },
   "file_extension": ".py",
   "mimetype": "text/x-python",
   "name": "python",
   "nbconvert_exporter": "python",
   "pygments_lexer": "ipython3",
   "version": "3.7.2"
  }
 },
 "nbformat": 4,
 "nbformat_minor": 2
}
