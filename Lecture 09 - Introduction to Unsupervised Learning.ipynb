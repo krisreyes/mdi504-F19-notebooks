{
 "cells": [
  {
   "cell_type": "code",
   "execution_count": null,
   "metadata": {},
   "outputs": [],
   "source": [
    "import numpy as np\n",
    "import matplotlib.pyplot as plt\n",
    "\n",
    "# ----- make nice figures -----\n",
    "import matplotlib as mpl\n",
    "mpl.rcParams['figure.dpi']= 300\n",
    "from cycler import cycler\n",
    "COLORS = ['#F00D2C', '#242482', '#0071BE', '#4E8F00', '#553C67', '#DA5319']\n",
    "default_cycler = cycler(color=COLORS)\n",
    "plt.rc('axes', prop_cycle=default_cycler) \n",
    "# -----------------------------"
   ]
  },
  {
   "cell_type": "markdown",
   "metadata": {},
   "source": [
    "Below is just some of the code we used to generate the figures in class."
   ]
  },
  {
   "cell_type": "code",
   "execution_count": null,
   "metadata": {},
   "outputs": [],
   "source": [
    "# Load the data\n",
    "data = np.loadtxt('data/perovskite_data.txt')\n",
    "\n",
    "# Extract the materials descriptors - there should be 14 of them\n",
    "X = data[:, 1:]\n",
    "print(X.shape)\n",
    "\n",
    "# Extract the perovskite label\n",
    "y = data[:, 0]\n",
    "print(y.shape)\n",
    "\n",
    "# normalize X (get rid of units)\n",
    "X = (X - np.mean(X, axis = 0))/np.std(X, axis = 0)"
   ]
  },
  {
   "cell_type": "markdown",
   "metadata": {},
   "source": [
    "Let's try to look at the data. For example, let's look at some histograms of the experiment response (whether perovksite formed)."
   ]
  },
  {
   "cell_type": "code",
   "execution_count": null,
   "metadata": {},
   "outputs": [],
   "source": [
    "plt.hist(y)\n",
    "plt.ylabel('Frequency')\n",
    "plt.xlabel('Perovskite formed')"
   ]
  },
  {
   "cell_type": "markdown",
   "metadata": {},
   "source": [
    "It's not that illuminating. We're ultimately interested in whether perovskite will form based on the material descriptors, so we need to tie in the descriptors (the x's) with the response (the y) somehow. Let's do a few scatter plots."
   ]
  },
  {
   "cell_type": "code",
   "execution_count": null,
   "metadata": {
    "scrolled": false
   },
   "outputs": [],
   "source": [
    "for i in range(14):\n",
    "    plt.scatter(X[:,i], y)\n",
    "    plt.xlabel('x_' + str(i))\n",
    "    plt.ylabel('Perovskite formed')\n",
    "    plt.grid()\n",
    "    plt.show()"
   ]
  },
  {
   "cell_type": "markdown",
   "metadata": {},
   "source": [
    "While there is some structure that we can observe, there is nothing definitive. One problem is that all 14 descriptors are jointly working together to form perovskite structure. That is, we need to think of all 14 descriptors simulatenously!\n",
    "\n",
    "In this module, we'll learn how to deal with higher dimensional data. For example, we consider the following dimensionality reduction:"
   ]
  },
  {
   "cell_type": "code",
   "execution_count": null,
   "metadata": {
    "scrolled": true
   },
   "outputs": [],
   "source": [
    "from sklearn.decomposition import KernelPCA\n",
    "\n",
    "pca = KernelPCA(n_components=2, kernel='rbf', degree = 2)\n",
    "pca.fit(X)\n",
    "Z = pca.transform(X)\n",
    "\n",
    "color_seq = [ COLORS[0] if yy == -1 else COLORS[1] for yy in y]\n",
    "\n",
    "plt.scatter(Z[:, 0], Z[:, 1], c = color_seq)"
   ]
  },
  {
   "cell_type": "code",
   "execution_count": null,
   "metadata": {},
   "outputs": [],
   "source": []
  }
 ],
 "metadata": {
  "kernelspec": {
   "display_name": "Python 3",
   "language": "python",
   "name": "python3"
  },
  "language_info": {
   "codemirror_mode": {
    "name": "ipython",
    "version": 3
   },
   "file_extension": ".py",
   "mimetype": "text/x-python",
   "name": "python",
   "nbconvert_exporter": "python",
   "pygments_lexer": "ipython3",
   "version": "3.6.5"
  }
 },
 "nbformat": 4,
 "nbformat_minor": 2
}
